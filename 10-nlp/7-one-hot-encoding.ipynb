{
 "cells": [
  {
   "cell_type": "markdown",
   "metadata": {},
   "source": [
    "#### sentiment analysis \n",
    "\n",
    "dataset----->text preprocessing-----> part 2----> text to vector conversion\n",
    "\n",
    "part 1\n",
    "\n",
    "tokenisation \n",
    "lower case words because its case sensitive \n",
    "regular expression removing special charachters\n",
    "\n",
    "part 2\n",
    "\n",
    "stemming\n",
    "lemmatization\n",
    "stop words\n",
    "\n",
    "part 3\n",
    "\n",
    "text->>vectors\n",
    "providing meaningful semantic to the words even in vector form\n",
    "\n",
    "1. one hot encoded \n",
    "mainly useful for converting categorical features into numerical data\n",
    "\n",
    "2. bag of words (bow)\n",
    "\n",
    "3. TF-IDF \n",
    "\n",
    "4. word-2-vec\n",
    "\n",
    "5. avg word2vec\n",
    "\n",
    "\n",
    "The food is good [1011] after conversion \n",
    "\n",
    "take this vector and take to next stage\n",
    "\n",
    "part 4\n",
    "\n",
    "training with ml and dl algo\n"
   ]
  },
  {
   "cell_type": "markdown",
   "metadata": {},
   "source": [
    "### one hot encoding"
   ]
  },
  {
   "cell_type": "markdown",
   "metadata": {},
   "source": [
    "dataset\n",
    "1. The food is good\n",
    "2. the fod is bad\n",
    "3. pizza is amazing\n",
    "\n",
    "- find unique words in corpus \n",
    "\n",
    "unique-words=\n",
    "the food is good bad pizza amazing\n",
    "1  0     0   0    0    0    0   ---> this represents the \n",
    "0   1    1   1    1    1    1   ---> this represents food\n",
    "\n",
    "\n",
    "\n",
    "vector representation will be as follows \n",
    "taking one of the words as 1 and other as 0 \n",
    "\n",
    "for sentence 1\n",
    "[[1000000],[01000000],]....\n",
    "\n",
    "1. 4x7\n",
    "2. 4x7\n",
    "3. 3x7\n"
   ]
  },
  {
   "cell_type": "markdown",
   "metadata": {},
   "source": [
    "#### Advantages and Disadvantages of one hot encoding"
   ]
  },
  {
   "cell_type": "markdown",
   "metadata": {},
   "source": []
  },
  {
   "cell_type": "markdown",
   "metadata": {},
   "source": [
    "- Advantage: \n",
    "1. Easy to implement with python\n",
    "2. sklearn one hot encoding library and pd.get_dummies\n",
    "\n",
    "- Disadvantage: \n",
    "1. Sparse matrix--->>leads to overfitting \n",
    "2. For ml algo we need fix size for all here some are 4x7 some 3x7 \n",
    "3. No semantic meaning is getting captured\n",
    "4. Out of vocabulary OOV \n",
    "\n",
    "oov when new word comes in test data then oov error comes out "
   ]
  },
  {
   "cell_type": "code",
   "execution_count": null,
   "metadata": {},
   "outputs": [],
   "source": []
  }
 ],
 "metadata": {
  "kernelspec": {
   "display_name": "ml_env",
   "language": "python",
   "name": "python3"
  },
  "language_info": {
   "name": "python",
   "version": "3.12.9"
  }
 },
 "nbformat": 4,
 "nbformat_minor": 2
}
