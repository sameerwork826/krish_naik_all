{
 "cells": [
  {
   "cell_type": "code",
   "execution_count": 1,
   "metadata": {},
   "outputs": [],
   "source": [
    "import nltk"
   ]
  },
  {
   "cell_type": "code",
   "execution_count": 2,
   "metadata": {},
   "outputs": [],
   "source": [
    "corpus=\"\"\"Hello welcome, to world of machine learning. \n",
    "Please follow the instructions and you will be able to \n",
    "learn the basics of machine learning in no time.\n",
    "\"\"\""
   ]
  },
  {
   "cell_type": "code",
   "execution_count": 3,
   "metadata": {},
   "outputs": [
    {
     "name": "stdout",
     "output_type": "stream",
     "text": [
      "Hello welcome, to world of machine learning. \n",
      "Please follow the instructions and you will be able to \n",
      "learn the basics of machine learning in no time.\n",
      "\n"
     ]
    }
   ],
   "source": [
    "print(corpus)"
   ]
  },
  {
   "cell_type": "code",
   "execution_count": 4,
   "metadata": {},
   "outputs": [],
   "source": [
    "# Tokenisation\n",
    "# sentence->>paragraph\n",
    "\n",
    "from nltk.tokenize import sent_tokenize\n",
    "# Download required NLTK data"
   ]
  },
  {
   "cell_type": "code",
   "execution_count": 6,
   "metadata": {},
   "outputs": [],
   "source": [
    "documents=sent_tokenize(corpus)"
   ]
  },
  {
   "cell_type": "code",
   "execution_count": 14,
   "metadata": {},
   "outputs": [
    {
     "name": "stdout",
     "output_type": "stream",
     "text": [
      "<class 'list'>\n",
      "['Hello', 'welcome', ',', 'to', 'world', 'of', 'machine', 'learning', '.']\n",
      "['Please', 'follow', 'the', 'instructions', 'and', 'you', 'will', 'be', 'able', 'to', 'learn', 'the', 'basics', 'of', 'machine', 'learning', 'in', 'no', 'time', '.']\n"
     ]
    }
   ],
   "source": [
    "print(type(documents))  \n",
    "for sentence in documents:\n",
    "    print(word_tokenize(sentence))\n"
   ]
  },
  {
   "cell_type": "code",
   "execution_count": 13,
   "metadata": {},
   "outputs": [
    {
     "name": "stdout",
     "output_type": "stream",
     "text": [
      "['Hello', 'welcome', ',', 'to', 'world', 'of', 'machine', 'learning', '.', 'Please', 'follow', 'the', 'instructions', 'and', 'you', 'will', 'be', 'able', 'to', 'learn', 'the', 'basics', 'of', 'machine', 'learning', 'in', 'no', 'time', '.']\n"
     ]
    }
   ],
   "source": [
    "# Tokenisation \n",
    "# paragraph-->> words\n",
    "# sentence-->> words\n",
    "\n",
    "from nltk.tokenize import word_tokenize\n",
    "\n",
    "words=word_tokenize(corpus) \n",
    "print(words)\n"
   ]
  },
  {
   "cell_type": "code",
   "execution_count": null,
   "metadata": {},
   "outputs": [],
   "source": [
    "# sent tokenize vs word tokenize \n",
    "# sent tokenize--> paragraph--> sentence\n",
    "# word tokenize--> paragraph--> words\n",
    "\n"
   ]
  },
  {
   "cell_type": "code",
   "execution_count": 16,
   "metadata": {},
   "outputs": [
    {
     "name": "stdout",
     "output_type": "stream",
     "text": [
      "['Hello', 'welcome', ',', 'to', 'world', 'of', 'machine', 'learning', '.', 'Please', 'follow', 'the', 'instructions', 'and', 'you', 'will', 'be', 'able', 'to', 'learn', 'the', 'basics', 'of', 'machine', 'learning', 'in', 'no', 'time', '.']\n"
     ]
    }
   ],
   "source": [
    "from nltk.tokenize import wordpunct_tokenize\n",
    "\n",
    "words=wordpunct_tokenize(corpus)\n",
    "print(words)\n",
    "\n",
    "# word punct also sperates commas and full stops\n"
   ]
  },
  {
   "cell_type": "code",
   "execution_count": 17,
   "metadata": {},
   "outputs": [],
   "source": [
    "from nltk.tokenize import TreebankWordTokenizer\n",
    "\n",
    "tokenizer=TreebankWordTokenizer()\n"
   ]
  },
  {
   "cell_type": "code",
   "execution_count": 18,
   "metadata": {},
   "outputs": [
    {
     "data": {
      "text/plain": [
       "['Hello',\n",
       " 'welcome',\n",
       " ',',\n",
       " 'to',\n",
       " 'world',\n",
       " 'of',\n",
       " 'machine',\n",
       " 'learning.',\n",
       " 'Please',\n",
       " 'follow',\n",
       " 'the',\n",
       " 'instructions',\n",
       " 'and',\n",
       " 'you',\n",
       " 'will',\n",
       " 'be',\n",
       " 'able',\n",
       " 'to',\n",
       " 'learn',\n",
       " 'the',\n",
       " 'basics',\n",
       " 'of',\n",
       " 'machine',\n",
       " 'learning',\n",
       " 'in',\n",
       " 'no',\n",
       " 'time',\n",
       " '.']"
      ]
     },
     "execution_count": 18,
     "metadata": {},
     "output_type": "execute_result"
    }
   ],
   "source": [
    "tokenizer.tokenize(corpus)"
   ]
  },
  {
   "cell_type": "code",
   "execution_count": null,
   "metadata": {},
   "outputs": [],
   "source": [
    "# diff between word punct and treebank word tokenizer\n",
    "# word punct--> commas and full stops\n",
    "# treebank word tokenizer--> \n"
   ]
  }
 ],
 "metadata": {
  "kernelspec": {
   "display_name": "ml_env",
   "language": "python",
   "name": "python3"
  },
  "language_info": {
   "codemirror_mode": {
    "name": "ipython",
    "version": 3
   },
   "file_extension": ".py",
   "mimetype": "text/x-python",
   "name": "python",
   "nbconvert_exporter": "python",
   "pygments_lexer": "ipython3",
   "version": "3.12.9"
  }
 },
 "nbformat": 4,
 "nbformat_minor": 2
}
