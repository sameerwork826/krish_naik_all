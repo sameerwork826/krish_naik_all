{
 "cells": [
  {
   "cell_type": "markdown",
   "metadata": {},
   "source": [
    "Word net Lammatizer  \n",
    "\n",
    "it is like stemming the output we get after this is lamms which is a root word eating-->eat etc"
   ]
  },
  {
   "cell_type": "markdown",
   "metadata": {},
   "source": [
    "stemming vs lammatisation"
   ]
  },
  {
   "cell_type": "code",
   "execution_count": 1,
   "metadata": {},
   "outputs": [],
   "source": [
    "# stemming vs lammatisation \n",
    "# lammatisation is more accurate than stemming\n",
    "\n",
    "# it is performed with word net lammatizer\n"
   ]
  },
  {
   "cell_type": "code",
   "execution_count": 2,
   "metadata": {},
   "outputs": [],
   "source": [
    "from nltk.stem import WordNetLemmatizer\n",
    "\n",
    "lammatizer=WordNetLemmatizer()"
   ]
  },
  {
   "cell_type": "code",
   "execution_count": 7,
   "metadata": {},
   "outputs": [
    {
     "name": "stdout",
     "output_type": "stream",
     "text": [
      "eat\n",
      "go\n"
     ]
    }
   ],
   "source": [
    "# pos tag is used to tell the part of speech of the word\n",
    "# n is for noun\n",
    "# v is for verb\n",
    "# a is for adjective\n",
    "# r is for adverb\n",
    "# s is for adjective satellite\n",
    "\n",
    "\n",
    "print(lammatizer.lemmatize(\"eating\",pos=\"v\"))\n",
    "print(lammatizer.lemmatize(\"going\",pos=\"v\"))\n"
   ]
  },
  {
   "cell_type": "code",
   "execution_count": 10,
   "metadata": {},
   "outputs": [
    {
     "name": "stdout",
     "output_type": "stream",
     "text": [
      "eating->>eat\n",
      "eats->>eat\n",
      "eater->>eater\n",
      "write->>write\n",
      "writer->>writer\n",
      "writing->>write\n",
      "writes->>write\n",
      "programming->>program\n",
      "programmer->>programmer\n",
      "program->>program\n",
      "programing->>program\n",
      "programer->>programer\n",
      "history->>history\n",
      "finally->>finally\n",
      "finalise->>finalise\n"
     ]
    }
   ],
   "source": [
    "words=[\"eating\",\"eats\",\"eater\",'write','writer','writing','writes','programming','programmer','program','programing','programer','history','finally','finalise']\n",
    "\n",
    "for word in words:\n",
    "    print(word+\"->>\"+lammatizer.lemmatize(word,pos=\"v\"))\n"
   ]
  },
  {
   "cell_type": "code",
   "execution_count": 13,
   "metadata": {},
   "outputs": [
    {
     "data": {
      "text/plain": [
       "'fairly'"
      ]
     },
     "execution_count": 13,
     "metadata": {},
     "output_type": "execute_result"
    }
   ],
   "source": [
    "print(lammatizer.lemmatize(\"goes\",pos=\"v\"))\n",
    "print(lammatizer.lemmatize(\"fairly\",pos=\"v\"))\n",
    "\n",
    "# but it will take long time to run in comparison to stemming\n",
    "# use case is q and a chatbots best \n"
   ]
  },
  {
   "cell_type": "code",
   "execution_count": null,
   "metadata": {},
   "outputs": [],
   "source": []
  }
 ],
 "metadata": {
  "kernelspec": {
   "display_name": "ml_env",
   "language": "python",
   "name": "python3"
  },
  "language_info": {
   "codemirror_mode": {
    "name": "ipython",
    "version": 3
   },
   "file_extension": ".py",
   "mimetype": "text/x-python",
   "name": "python",
   "nbconvert_exporter": "python",
   "pygments_lexer": "ipython3",
   "version": "3.12.9"
  }
 },
 "nbformat": 4,
 "nbformat_minor": 2
}
