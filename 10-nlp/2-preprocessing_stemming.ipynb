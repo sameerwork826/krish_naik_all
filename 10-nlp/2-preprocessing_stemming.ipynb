{
 "cells": [
  {
   "cell_type": "markdown",
   "metadata": {},
   "source": [
    "Stemming is the process of reducing word to its word stem that affixes to suffizes and prefixes or the roots of wrods known as lemma. Stemming is imortant in NLP "
   ]
  },
  {
   "cell_type": "code",
   "execution_count": 1,
   "metadata": {},
   "outputs": [],
   "source": [
    "# classification problem \n",
    "# comments on product is positive or negative \n",
    "# sentiment analysis \n",
    "# reveiws----> words--> eating, eat, eaten this is word stem of eat \n",
    "# we have to reduce words because all represent same vector\n",
    "\n"
   ]
  },
  {
   "cell_type": "code",
   "execution_count": 8,
   "metadata": {},
   "outputs": [],
   "source": [
    "words=[\"eating\",\"eats\",\"eater\",'write','writer','writing','writes','programming','programmer','program','programing','programer','history','finally','finalise']\n"
   ]
  },
  {
   "cell_type": "code",
   "execution_count": 27,
   "metadata": {},
   "outputs": [],
   "source": [
    "# porter stemmer\n",
    "from nltk.stem import PorterStemmer\n",
    "\n",
    "porter_stemming=PorterStemmer()\n"
   ]
  },
  {
   "cell_type": "code",
   "execution_count": 9,
   "metadata": {},
   "outputs": [
    {
     "name": "stdout",
     "output_type": "stream",
     "text": [
      "eating---->eat\n",
      "eats---->eat\n",
      "eater---->eater\n",
      "write---->write\n",
      "writer---->writer\n",
      "writing---->write\n",
      "writes---->write\n",
      "programming---->program\n",
      "programmer---->programm\n",
      "program---->program\n",
      "programing---->program\n",
      "programer---->program\n",
      "history---->histori\n",
      "finally---->final\n",
      "finalise---->finalis\n"
     ]
    }
   ],
   "source": [
    "for word in words:\n",
    "    print(word+\"---->\"+stemming.stem(word))"
   ]
  },
  {
   "cell_type": "code",
   "execution_count": 10,
   "metadata": {},
   "outputs": [],
   "source": [
    "# some words are wrong like history, finally, finalise\n",
    "# this is a major drawback of porter stemmer\n"
   ]
  },
  {
   "cell_type": "code",
   "execution_count": 13,
   "metadata": {},
   "outputs": [
    {
     "data": {
      "text/plain": [
       "'congratul'"
      ]
     },
     "execution_count": 13,
     "metadata": {},
     "output_type": "execute_result"
    }
   ],
   "source": [
    "stemming.stem(\"congratulations\")"
   ]
  },
  {
   "cell_type": "code",
   "execution_count": 14,
   "metadata": {},
   "outputs": [
    {
     "data": {
      "text/plain": [
       "'sit'"
      ]
     },
     "execution_count": 14,
     "metadata": {},
     "output_type": "execute_result"
    }
   ],
   "source": [
    "stemming.stem(\"sitting\")"
   ]
  },
  {
   "cell_type": "code",
   "execution_count": 15,
   "metadata": {},
   "outputs": [],
   "source": [
    "# there are vatious use cases such as spam or ham\n",
    "# we will use diff techniques other than porter stemmer"
   ]
  },
  {
   "cell_type": "code",
   "execution_count": 18,
   "metadata": {},
   "outputs": [
    {
     "name": "stdout",
     "output_type": "stream",
     "text": [
      "eat\n",
      "eat\n",
      "eater\n",
      "writ\n",
      "use\n"
     ]
    }
   ],
   "source": [
    "# regexpStemmer class \n",
    "# single regular expression removes prefix and suffix\n",
    "\n",
    "from nltk.stem import RegexpStemmer\n",
    "\n",
    "stemmer=RegexpStemmer('ing$|s$|e$|able$',min=4)\n",
    "# depends on dollar sign it will remove the suffix or prefix\n",
    "\n",
    "print(stemmer.stem(\"eating\"))\n",
    "print(stemmer.stem(\"eats\"))\n",
    "print(stemmer.stem(\"eater\"))\n",
    "print(stemmer.stem(\"write\"))\n",
    "print(stemmer.stem(\"useable\"))\n"
   ]
  },
  {
   "cell_type": "code",
   "execution_count": 22,
   "metadata": {},
   "outputs": [],
   "source": [
    "# snowball stemmer\n",
    "# it is a more advanced stemming algorithm\n",
    "# it is a combination of porter stemmer and regexp stemmer\n",
    "\n",
    "from nltk.stem import SnowballStemmer\n",
    "\n",
    "snowball_stemmer=SnowballStemmer('english')"
   ]
  },
  {
   "cell_type": "code",
   "execution_count": 23,
   "metadata": {},
   "outputs": [
    {
     "name": "stdout",
     "output_type": "stream",
     "text": [
      "eating---->eat\n",
      "eats---->eat\n",
      "eater---->eater\n",
      "write---->write\n",
      "writer---->writer\n",
      "writing---->write\n",
      "writes---->write\n",
      "programming---->program\n",
      "programmer---->programm\n",
      "program---->program\n",
      "programing---->program\n",
      "programer---->program\n",
      "history---->histori\n",
      "finally---->final\n",
      "finalise---->finalis\n"
     ]
    }
   ],
   "source": [
    "for word in words:\n",
    "    print(word+\"---->\"+snowball_stemmer.stem(word))\n",
    "# it is more accurate than porter stemmer and regexp stemmer\n"
   ]
  },
  {
   "cell_type": "code",
   "execution_count": 28,
   "metadata": {},
   "outputs": [
    {
     "data": {
      "text/plain": [
       "('fairli', 'sportingli')"
      ]
     },
     "execution_count": 28,
     "metadata": {},
     "output_type": "execute_result"
    }
   ],
   "source": [
    "porter_stemming.stem(\"fairly\"),porter_stemming.stem(\"sportingly\")"
   ]
  },
  {
   "cell_type": "code",
   "execution_count": 26,
   "metadata": {},
   "outputs": [
    {
     "data": {
      "text/plain": [
       "('fair', 'sport')"
      ]
     },
     "execution_count": 26,
     "metadata": {},
     "output_type": "execute_result"
    }
   ],
   "source": [
    "snowball_stemmer.stem(\"fairly\"),snowball_stemmer.stem(\"sportingly\")"
   ]
  },
  {
   "cell_type": "code",
   "execution_count": 29,
   "metadata": {},
   "outputs": [],
   "source": [
    "# this is all we are doing for text preprocessing\n",
    "\n",
    "# major drawback of stemming is it not all words are stemmed correctly\n"
   ]
  },
  {
   "cell_type": "code",
   "execution_count": 1,
   "metadata": {},
   "outputs": [],
   "source": [
    "# lammatastion solve all this probelem it is more accurate than stemming\n"
   ]
  },
  {
   "cell_type": "code",
   "execution_count": null,
   "metadata": {},
   "outputs": [],
   "source": []
  }
 ],
 "metadata": {
  "kernelspec": {
   "display_name": "ml_env",
   "language": "python",
   "name": "python3"
  },
  "language_info": {
   "codemirror_mode": {
    "name": "ipython",
    "version": 3
   },
   "file_extension": ".py",
   "mimetype": "text/x-python",
   "name": "python",
   "nbconvert_exporter": "python",
   "pygments_lexer": "ipython3",
   "version": "3.12.9"
  }
 },
 "nbformat": 4,
 "nbformat_minor": 2
}
