{
 "cells": [
  {
   "cell_type": "markdown",
   "metadata": {},
   "source": [
    "##### Inheritance is a fundamental concept in object-oriented programming where a class (child/derived class) can inherit attributes and methods from another class (parent/base class). This promotes code reuse and establishes a relationship between classes, allowing the child class to extend or override the functionality of its parent class while maintaining a hierarchical structure.\n"
   ]
  },
  {
   "cell_type": "code",
   "execution_count": 3,
   "metadata": {},
   "outputs": [],
   "source": [
    "### inheritance \n",
    "### parent class\n",
    "\n",
    "class Car:\n",
    "    ##constructor\n",
    "    def __init__(self,windows,doors,enginetype):\n",
    "        self.windows=windows\n",
    "        self.doors=doors\n",
    "        self.enginetype=enginetype\n",
    "    #instance method    \n",
    "    def drive(self):\n",
    "        print(f\"The person will drive the {self.enginetype} car\")\n",
    "    \n"
   ]
  },
  {
   "cell_type": "code",
   "execution_count": 5,
   "metadata": {},
   "outputs": [
    {
     "name": "stdout",
     "output_type": "stream",
     "text": [
      "The person will drive the petrol car\n"
     ]
    }
   ],
   "source": [
    "car1=Car(4,5,\"petrol\")\n",
    "car1.drive()"
   ]
  },
  {
   "cell_type": "code",
   "execution_count": 6,
   "metadata": {},
   "outputs": [],
   "source": [
    "#inheritance child class tesla parent class car\n",
    "# this is single inheritnace only 1 parent class\n",
    "class Tesla(Car):\n",
    "    def __init__(self,windows,doors,enginetype,speed,is_selfdriving):\n",
    "        super().__init__(windows,doors,enginetype) #inheriting from parent class\n",
    "        self.is_selfdriving=is_selfdriving #instance variable\n",
    "        self.speed=speed\n",
    "        \n",
    "    def selfdriving(self):\n",
    "        print(f\"The car is self driving {self.is_selfdriving}\")\n",
    "\n",
    "\n",
    "tesla1=Tesla(4,5,'electric',200,True)\n"
   ]
  },
  {
   "cell_type": "code",
   "execution_count": 8,
   "metadata": {},
   "outputs": [
    {
     "name": "stdout",
     "output_type": "stream",
     "text": [
      "The car is self driving True\n",
      "The person will drive the electric car\n"
     ]
    }
   ],
   "source": [
    "tesla1.selfdriving() \n",
    "#this drive method is inherited from parent class car\n",
    "tesla1.drive()\n"
   ]
  },
  {
   "cell_type": "code",
   "execution_count": 12,
   "metadata": {},
   "outputs": [],
   "source": [
    "#what is multiple inheritance\n",
    "#multiple inheritance is a feature in object-oriented programming where a class can inherit from multiple parent classes.\n",
    "# This allows a class to inherit attributes and methods from multiple sources, providing flexibility and code reuse.\n",
    "\n",
    "#base class 1\n",
    "class Animal:\n",
    "    def __init__(self,name):\n",
    "        self.name=name\n",
    "        \n",
    "    def speak(self):\n",
    "        print(\"Subclass will not implement this method\")\n",
    "        \n",
    "#base class 2\n",
    "class Pet:\n",
    "    def __init__(self,owner):\n",
    "        self.owner=owner\n",
    "\n",
    "#derrived class 1  \n",
    "class Dog(Animal,Pet):\n",
    "    def __init__(self,name,owner):\n",
    "        Animal.__init__(self,name) ## here we using comma while doing self and not fullstop \n",
    "        Pet.__init__(self,owner) \n",
    "        \n",
    "    \n",
    "    def speak(self):\n",
    "        return f\"{self.name} says woof\"\n",
    "      "
   ]
  },
  {
   "cell_type": "code",
   "execution_count": 14,
   "metadata": {},
   "outputs": [
    {
     "name": "stdout",
     "output_type": "stream",
     "text": [
      "Buddy says woof\n",
      "John\n"
     ]
    }
   ],
   "source": [
    "dog=Dog(\"Buddy\",\"John\")\n",
    "print(dog.speak())\n",
    "print(dog.owner)\n",
    "\n",
    "#what is multilevel inheritance\n",
    "#multilevel inheritance is a feature in object-oriented programming where a class can inherit from a derived class.\n",
    "# This allows a class to inherit attributes and methods from multiple sources, providing flexibility and code reuse.\n"
   ]
  },
  {
   "cell_type": "code",
   "execution_count": null,
   "metadata": {},
   "outputs": [],
   "source": []
  }
 ],
 "metadata": {
  "kernelspec": {
   "display_name": "myenv_cb_Dl",
   "language": "python",
   "name": "python3"
  },
  "language_info": {
   "codemirror_mode": {
    "name": "ipython",
    "version": 3
   },
   "file_extension": ".py",
   "mimetype": "text/x-python",
   "name": "python",
   "nbconvert_exporter": "python",
   "pygments_lexer": "ipython3",
   "version": "3.8.20"
  }
 },
 "nbformat": 4,
 "nbformat_minor": 2
}
