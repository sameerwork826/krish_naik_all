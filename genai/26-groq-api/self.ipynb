{
 "cells": [
  {
   "cell_type": "markdown",
   "id": "c350c4fc",
   "metadata": {},
   "source": [
    "Simple LLM application using LCEL\n",
    "(Langchain Expression Language)\n",
    "this app will convert english into other languages\n",
    ". Also we will learn about langserve\n"
   ]
  },
  {
   "cell_type": "code",
   "execution_count": 4,
   "id": "8d8e6e5f",
   "metadata": {},
   "outputs": [
    {
     "data": {
      "text/plain": [
       "'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'"
      ]
     },
     "execution_count": 4,
     "metadata": {},
     "output_type": "execute_result"
    }
   ],
   "source": [
    "# with open ai, gemma 2, and mistral with groq fast ai\n",
    "import os\n",
    "from dotenv import load_dotenv\n",
    "load_dotenv()\n",
    "\n",
    "import openai\n",
    "openai.api_key=os.getenv(\"OPENAI_API_KEY\")\n",
    "\n",
    "groq_api_key=os.getenv(\"GROQ_API_KEY\")\n",
    "groq_api_key"
   ]
  },
  {
   "cell_type": "code",
   "execution_count": 8,
   "id": "3b906274",
   "metadata": {},
   "outputs": [],
   "source": [
    "from langchain_groq import ChatGroq\n",
    "from langchain_openai import ChatOpenAI "
   ]
  },
  {
   "cell_type": "code",
   "execution_count": 11,
   "id": "cd74870a",
   "metadata": {},
   "outputs": [
    {
     "data": {
      "text/plain": [
       "ChatGroq(client=<groq.resources.chat.completions.Completions object at 0x00000158CA367880>, async_client=<groq.resources.chat.completions.AsyncCompletions object at 0x00000158CA364D60>, model_name='Gemma2-9b-It', model_kwargs={}, groq_api_key=SecretStr('**********'))"
      ]
     },
     "execution_count": 11,
     "metadata": {},
     "output_type": "execute_result"
    }
   ],
   "source": [
    "model=ChatGroq(model=\"Gemma2-9b-It\",groq_api_key=groq_api_key)\n",
    "model"
   ]
  },
  {
   "cell_type": "code",
   "execution_count": 15,
   "id": "23b37885",
   "metadata": {},
   "outputs": [],
   "source": [
    "from langchain_core.messages import HumanMessage,SystemMessage\n",
    "\n",
    "messages=[\n",
    "    SystemMessage(content=\"Translate the following from English to Hindi\"),\n",
    "    HumanMessage(content=\"Hello How are you\")\n",
    "\n",
    "]\n",
    "response=model.invoke(messages)\n",
    "# how to get only the response\n",
    "# using string outputparser"
   ]
  },
  {
   "cell_type": "code",
   "execution_count": 18,
   "id": "5a8ce566",
   "metadata": {},
   "outputs": [
    {
     "data": {
      "text/plain": [
       "'नमस्ते, आप कैसे हैं? \\n\\n(Namaste, aap kaise hain?) \\n\\n\\nLet me break it down:\\n\\n* **नमस्ते (Namaste):** This is a common Hindi greeting, similar to \"Hello\" or \"Good day.\"\\n* **आप (aap):** This means \"you\" in a formal or respectful way.\\n* **कैसे (kaise):** This means \"how.\"\\n* **हैं (hain):** This is the verb \"to be\" in the present tense, used with the subject \"you.\" \\n\\n\\n\\n'"
      ]
     },
     "execution_count": 18,
     "metadata": {},
     "output_type": "execute_result"
    }
   ],
   "source": [
    "from langchain_core.output_parsers import StrOutputParser\n",
    "parser=StrOutputParser()\n",
    "parser.invoke(response)"
   ]
  },
  {
   "cell_type": "code",
   "execution_count": 19,
   "id": "4cd8f535",
   "metadata": {},
   "outputs": [
    {
     "data": {
      "text/plain": [
       "'नमस्ते, आप कैसे हैं? \\n\\n(Namaste, aap kaise hain?)\\n\\n\\n* **नमस्ते** (Namaste)  - Hello\\n* **आप** (aap) - You (formal)\\n* **कैसे** (kaise) - How\\n* **हैं** (hain) - are  \\n'"
      ]
     },
     "execution_count": 19,
     "metadata": {},
     "output_type": "execute_result"
    }
   ],
   "source": [
    "# chaining model output to str output parser\n",
    "\n",
    "chain=model|parser\n",
    "chain.invoke(messages)"
   ]
  },
  {
   "cell_type": "code",
   "execution_count": 20,
   "id": "e724143f",
   "metadata": {},
   "outputs": [],
   "source": [
    "# better way is to use prompt messages type\n",
    "\n",
    "from langchain_core.prompts import ChatPromptTemplate\n",
    "\n",
    "generic_template=\"Translate the following  into {language}:\"\n",
    "\n",
    "prompt=ChatPromptTemplate.from_messages(\n",
    "    [(\"system\",generic_template),(\"user\",\"{text}\")]\n",
    ")"
   ]
  },
  {
   "cell_type": "code",
   "execution_count": 24,
   "id": "ea8102a5",
   "metadata": {},
   "outputs": [],
   "source": [
    "result=prompt.invoke({\"language\":\"French\",\"text\":\"Hello\"})"
   ]
  },
  {
   "cell_type": "code",
   "execution_count": 25,
   "id": "b0f45f68",
   "metadata": {},
   "outputs": [
    {
     "data": {
      "text/plain": [
       "ChatPromptValue(messages=[SystemMessage(content='Translate the following  into French:', additional_kwargs={}, response_metadata={}), HumanMessage(content='Hello', additional_kwargs={}, response_metadata={})])"
      ]
     },
     "execution_count": 25,
     "metadata": {},
     "output_type": "execute_result"
    }
   ],
   "source": [
    "result"
   ]
  },
  {
   "cell_type": "code",
   "execution_count": 31,
   "id": "5847dfdd",
   "metadata": {},
   "outputs": [
    {
     "data": {
      "text/plain": [
       "'\"What is in Marathi?\" in Marathi is: \\n\\n**मराठीमध्ये काय आहे?** (Marathimey kay aahe?) \\n\\n\\nLet me know if you have any other phrases you\\'d like translated! 😊\\n'"
      ]
     },
     "execution_count": 31,
     "metadata": {},
     "output_type": "execute_result"
    }
   ],
   "source": [
    "chain=prompt|model|parser\n",
    "chain.invoke({\"language\":\"Marathi\",\"text\":\"What is in marathi\"})"
   ]
  },
  {
   "cell_type": "code",
   "execution_count": null,
   "id": "baad2ac9",
   "metadata": {},
   "outputs": [],
   "source": []
  }
 ],
 "metadata": {
  "kernelspec": {
   "display_name": "genai_env",
   "language": "python",
   "name": "python3"
  },
  "language_info": {
   "codemirror_mode": {
    "name": "ipython",
    "version": 3
   },
   "file_extension": ".py",
   "mimetype": "text/x-python",
   "name": "python",
   "nbconvert_exporter": "python",
   "pygments_lexer": "ipython3",
   "version": "3.10.16"
  }
 },
 "nbformat": 4,
 "nbformat_minor": 5
}
