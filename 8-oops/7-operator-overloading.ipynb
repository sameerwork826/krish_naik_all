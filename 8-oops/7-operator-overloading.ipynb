{
 "cells": [
  {
   "cell_type": "code",
   "execution_count": 1,
   "metadata": {},
   "outputs": [],
   "source": [
    "class Person:\n",
    "    pass\n",
    "person=Person()"
   ]
  },
  {
   "cell_type": "code",
   "execution_count": 2,
   "metadata": {},
   "outputs": [
    {
     "data": {
      "text/plain": [
       "['__class__',\n",
       " '__delattr__',\n",
       " '__dict__',\n",
       " '__dir__',\n",
       " '__doc__',\n",
       " '__eq__',\n",
       " '__format__',\n",
       " '__ge__',\n",
       " '__getattribute__',\n",
       " '__gt__',\n",
       " '__hash__',\n",
       " '__init__',\n",
       " '__init_subclass__',\n",
       " '__le__',\n",
       " '__lt__',\n",
       " '__module__',\n",
       " '__ne__',\n",
       " '__new__',\n",
       " '__reduce__',\n",
       " '__reduce_ex__',\n",
       " '__repr__',\n",
       " '__setattr__',\n",
       " '__sizeof__',\n",
       " '__str__',\n",
       " '__subclasshook__',\n",
       " '__weakref__']"
      ]
     },
     "execution_count": 2,
     "metadata": {},
     "output_type": "execute_result"
    }
   ],
   "source": [
    "dir(person)"
   ]
  },
  {
   "cell_type": "code",
   "execution_count": 3,
   "metadata": {},
   "outputs": [],
   "source": [
    "#overriding default operator of driectory functions"
   ]
  },
  {
   "cell_type": "code",
   "execution_count": 4,
   "metadata": {},
   "outputs": [],
   "source": [
    "# __add__\n",
    "# __lt__\n",
    "# __gt__\n",
    "# __eq__\n",
    "\n",
    "class Vector:\n",
    "    def __init__(self,x,y):\n",
    "        self.x=x\n",
    "        self.y=y\n",
    "        \n",
    "    def __sub__(self, other):\n",
    "        return Vector(self.x - other.x, self.y - other.y)\n",
    "        \n",
    "    def __mul__(self, other):\n",
    "        if isinstance(other, (int, float)):\n",
    "            return Vector(self.x * other, self.y * other)\n",
    "        return Vector(self.x * other.x, self.y * other.y)\n",
    "        \n",
    "    def __repr__(self):\n",
    "        return f\"Vector({self.x}, {self.y})\"\n",
    "        \n",
    "    def __eq__(self, other):\n",
    "        return self.x == other.x and self.y == other.y\n",
    "    \n",
    "    def __add__(self,other):\n",
    "        return Vector(self.x+other.x,self.y+other.y)\n",
    "    \n",
    "      # vector additinon fucnitonality\n",
    "          "
   ]
  },
  {
   "cell_type": "code",
   "execution_count": 6,
   "metadata": {},
   "outputs": [],
   "source": [
    "v1=Vector(2,3)\n",
    "v2=Vector(3,4)"
   ]
  },
  {
   "cell_type": "code",
   "execution_count": 11,
   "metadata": {},
   "outputs": [
    {
     "name": "stdout",
     "output_type": "stream",
     "text": [
      "Vector(5, 7)\n",
      "Vector(-1, -1)\n",
      "Vector(6, 12)\n",
      "False\n",
      "Vector(2, 3)\n",
      "Vector(3, 4)\n"
     ]
    }
   ],
   "source": [
    "print(v1+v2)\n",
    "print(v1-v2)\n",
    "print(v1*v2)\n",
    "print(v1==v2)\n",
    "print(v1)\n",
    "print(v2)"
   ]
  },
  {
   "cell_type": "code",
   "execution_count": 19,
   "metadata": {},
   "outputs": [
    {
     "name": "stdout",
     "output_type": "stream",
     "text": [
      "Testing complex number operations:\n",
      "i1 = Imaginary Number (2,3)\n",
      "i2 = Imaginary Number (1,2)\n",
      "\n",
      "Addition:\n",
      "i1 + i2 = Imaginary Number (3,5)\n",
      "\n",
      "Subtraction:\n",
      "i1 - i2 = Imaginary Number (1,1)\n",
      "\n",
      "Multiplication:\n",
      "i1 * i2 = Imaginary Number (-4,7)\n",
      "\n",
      "Equality test:\n",
      "i1 == i2: None\n",
      "i1 == ImaginaryNumber(2,3): None\n"
     ]
    }
   ],
   "source": [
    "class ImaginaryNumber():\n",
    "    def __init__(self,x,y):\n",
    "        self.x=x\n",
    "        self.y=y\n",
    "    def __add__(self,other):\n",
    "        return ImaginaryNumber(self.x+other.x,self.y+other.y)\n",
    "    def __sub__(self,other):\n",
    "        return ImaginaryNumber(self.x-other.x,self.y-other.y)\n",
    "    def __mul__(self,other):\n",
    "        return ImaginaryNumber((self.x*other.x)-(self.y*other.y),(self.x*other.y)+(self.y*other.x))\n",
    "    def __repr__(self):\n",
    "        return f\"Imaginary Number ({self.x},{self.y})\"\n",
    "    def __eq__(self,other):\n",
    "        (self.x==other.x and self.y==other.y)\n",
    "        \n",
    "        \n",
    "# Test complex number operations\n",
    "i1 = ImaginaryNumber(2,3) # 2 + 3i\n",
    "i2 = ImaginaryNumber(1,2) # 1 + 2i\n",
    "\n",
    "print(\"Testing complex number operations:\")\n",
    "print(f\"i1 = {i1}\")\n",
    "print(f\"i2 = {i2}\")\n",
    "\n",
    "# Addition test\n",
    "print(\"\\nAddition:\")\n",
    "print(f\"i1 + i2 = {i1 + i2}\")  # Should be (3,5) and it is correct\n",
    "\n",
    "# Subtraction test - current implementation looks incorrect\n",
    "print(\"\\nSubtraction:\")\n",
    "print(f\"i1 - i2 = {i1 - i2}\") # Current output is wrong, should be (1,1)\n",
    "\n",
    "# Multiplication test - current implementation looks incorrect\n",
    "print(\"\\nMultiplication:\")\n",
    "print(f\"i1 * i2 = {i1 * i2}\") # Current output is wrong\n",
    "# For complex numbers (a+bi)(c+di) = (ac-bd) + (ad+bc)i\n",
    "\n",
    "# Equality test\n",
    "print(\"\\nEquality test:\")\n",
    "print(f\"i1 == i2: {i1 == i2}\")\n",
    "print(f\"i1 == ImaginaryNumber(2,3): {i1 == ImaginaryNumber(2,3)}\")\n",
    "\n",
    "# Note: The class has several issues that need fixing:\n",
    "# 1. Subtraction is correct: return ImaginaryNumber(self.x - other.x, self.y - other.y)\n",
    "# 2. Multiplication is correct: return ImaginaryNumber(self.x*other.x - self.y*other.y, self.x*other.y + self.y*other.x)\n",
    "# 3. __repr__ should be fixed to say \"Imaginary Number\" instead of \"Vector\"\n",
    "# 4. __eq__ should be fixed to return bool: return self.x==other.x and self.y==other.y\n",
    "# 2. Multiplication should be: return ImaginaryNumber(self.x*other.x - self.y*other.y, self.x*other.y + self.y*other.x)\n",
    "# 3. __repr__ says \"Vector\" instead of \"ImaginaryNumber\"\n",
    "# 4. __eq__ should return bool, not string \"True\"/\"False\"\n"
   ]
  },
  {
   "cell_type": "code",
   "execution_count": null,
   "metadata": {},
   "outputs": [],
   "source": []
  }
 ],
 "metadata": {
  "kernelspec": {
   "display_name": "myenv_cb_Dl",
   "language": "python",
   "name": "python3"
  },
  "language_info": {
   "codemirror_mode": {
    "name": "ipython",
    "version": 3
   },
   "file_extension": ".py",
   "mimetype": "text/x-python",
   "name": "python",
   "nbconvert_exporter": "python",
   "pygments_lexer": "ipython3",
   "version": "3.8.20"
  }
 },
 "nbformat": 4,
 "nbformat_minor": 2
}
