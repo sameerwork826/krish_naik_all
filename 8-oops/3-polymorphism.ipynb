{
 "cells": [
  {
   "cell_type": "markdown",
   "metadata": {},
   "source": [
    "Polymorphism is a core OOP concept where objects of different classes can be treated as objects of a common base class. It allows different objects to respond to the same method call in their own unique ways, while sharing a common interface. This enables more flexible and reusable code."
   ]
  },
  {
   "cell_type": "code",
   "execution_count": 1,
   "metadata": {},
   "outputs": [],
   "source": [
    "#method overridin allows a child class ot provide a  speciifc\n",
    "# iimplrttantoon of mthoda that is alreay defined in its parent class"
   ]
  },
  {
   "cell_type": "code",
   "execution_count": null,
   "metadata": {},
   "outputs": [],
   "source": [
    "## base class\n",
    "\n",
    "class Animal:\n",
    "    # no constructor because no kwards defined \n",
    "    def speak(self):\n",
    "        return \"sound of the animal \"\n",
    " \n",
    " #we will do method overriding  here in dervied class   \n",
    "## dervied class 1\n",
    "\n",
    "class Dog(Animal):\n",
    "    def speak(self):\n",
    "        return \"woof !\"\n",
    "    \n",
    "class Cat(Animal):\n",
    "    def speak(self):\n",
    "        return \"meow\"\n",
    "    \n",
    "##public  function\n",
    "\n",
    "def animal_speak(animal):\n",
    "    print(animal.speak()) ## dog.speak is called dog is object to it"
   ]
  },
  {
   "cell_type": "code",
   "execution_count": 10,
   "metadata": {},
   "outputs": [
    {
     "name": "stdout",
     "output_type": "stream",
     "text": [
      "sound of the animal \n",
      "woof !\n",
      "meow\n",
      "woof !\n"
     ]
    }
   ],
   "source": [
    "lion=Animal()\n",
    "print(lion.speak())\n",
    "\n",
    "dog=Dog()\n",
    "print(dog.speak())\n",
    "\n",
    "cat=Cat()\n",
    "print(cat.speak())\n",
    " \n",
    "animal_speak(dog)"
   ]
  },
  {
   "cell_type": "code",
   "execution_count": null,
   "metadata": {},
   "outputs": [],
   "source": [
    "# base class\n",
    "\n",
    "class Shape:\n",
    "    def area(self):\n",
    "        return \"The are of the figure\"\n",
    "    \n",
    "# derrived class 1\n",
    "\n",
    "class Rectangle(Shape):\n",
    "    def __init__(self,width,height):\n",
    "        self.width=width\n",
    "        self.height=height\n",
    "    \n",
    "    def area(self):\n",
    "        return self.width*self.height\n",
    "    \n",
    "#derrived class 2\n",
    "\n",
    "class Circle(Shape):\n",
    "    def __init__(self,radius):\n",
    "        self.radius=radius\n",
    "    \n",
    "    def area(self):\n",
    "        return 3.14*self.radius*self.radius \n",
    "    \n",
    "## function that demonstrates polymorphism\n",
    "\n",
    "def print_area(shape):\n",
    "    print(f\"the area is {shape.area()}\")\n"
   ]
  },
  {
   "cell_type": "code",
   "execution_count": 14,
   "metadata": {},
   "outputs": [
    {
     "name": "stdout",
     "output_type": "stream",
     "text": [
      "the area is 50\n",
      "the area is 3.14\n"
     ]
    }
   ],
   "source": [
    "rectangle=Rectangle(5,10)\n",
    "circle=Circle(1)\n",
    "\n",
    "print_area(rectangle)\n",
    "print_area(circle)\n"
   ]
  },
  {
   "cell_type": "markdown",
   "metadata": {},
   "source": [
    "polymorphism with interface or abstract base class\n",
    " abstract base class are used to define comman methods for group \n",
    "of related objects  they can enforce that derivedd classes implement\n",
    "#particular methods promoting consistency across different implementations\n",
    "\n"
   ]
  },
  {
   "cell_type": "code",
   "execution_count": 29,
   "metadata": {},
   "outputs": [],
   "source": [
    "from abc import ABC,abstractmethod\n",
    "\n",
    "#define and abstract class\n",
    "\n",
    "class Vehicle(ABC):\n",
    "    @abstractmethod\n",
    "    def start_engine(self): ## define empty method\n",
    "        pass\n",
    "    \n",
    "#derived class 1\n",
    "class Car(Vehicle):\n",
    "    def start_engine(self):\n",
    "        return \"Car engine started\"\n",
    "    \n",
    "#derrrived class 2\n",
    "\n",
    "class Motorcycle(Vehicle):\n",
    "    def start_engine(self):\n",
    "        return \"Motorcycle engine started\"\n",
    "\n",
    "## global function to demonstrate polymorphism\n",
    "def start_vehicle(vehicle):\n",
    "    print(vehicle.start_engine())\n"
   ]
  },
  {
   "cell_type": "code",
   "execution_count": 32,
   "metadata": {},
   "outputs": [],
   "source": [
    "#creaitng object of car and motorcycle \n",
    "car=Car()\n",
    "motorcycle=Motorcycle()"
   ]
  },
  {
   "cell_type": "code",
   "execution_count": 33,
   "metadata": {},
   "outputs": [
    {
     "name": "stdout",
     "output_type": "stream",
     "text": [
      "Car engine started\n"
     ]
    }
   ],
   "source": [
    "start_vehicle(car)"
   ]
  },
  {
   "cell_type": "code",
   "execution_count": 34,
   "metadata": {},
   "outputs": [
    {
     "name": "stdout",
     "output_type": "stream",
     "text": [
      "Motorcycle engine started\n"
     ]
    }
   ],
   "source": [
    "start_vehicle(motorcycle)"
   ]
  },
  {
   "cell_type": "code",
   "execution_count": null,
   "metadata": {},
   "outputs": [],
   "source": []
  }
 ],
 "metadata": {
  "kernelspec": {
   "display_name": "myenv_cb_Dl",
   "language": "python",
   "name": "python3"
  },
  "language_info": {
   "codemirror_mode": {
    "name": "ipython",
    "version": 3
   },
   "file_extension": ".py",
   "mimetype": "text/x-python",
   "name": "python",
   "nbconvert_exporter": "python",
   "pygments_lexer": "ipython3",
   "version": "3.8.20"
  }
 },
 "nbformat": 4,
 "nbformat_minor": 2
}
